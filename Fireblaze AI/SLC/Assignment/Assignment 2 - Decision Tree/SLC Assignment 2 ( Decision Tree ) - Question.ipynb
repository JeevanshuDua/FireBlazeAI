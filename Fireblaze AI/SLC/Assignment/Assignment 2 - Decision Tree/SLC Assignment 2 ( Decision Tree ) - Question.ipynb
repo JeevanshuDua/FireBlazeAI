{
 "cells": [
  {
   "cell_type": "markdown",
   "id": "9bf86e42",
   "metadata": {},
   "source": [
    "<img src=\"fireblaze.jpg\" width=250 height=200 />"
   ]
  },
  {
   "cell_type": "markdown",
   "id": "2420918b",
   "metadata": {},
   "source": [
    "## <p style=\"font-family: Arial; font-size:1.4em;color:red; style='background :yellow'\"> Assignment</p>"
   ]
  },
  {
   "cell_type": "markdown",
   "id": "9e61738d",
   "metadata": {},
   "source": [
    "<span style='color:Red'> **About The Dataset** </span>"
   ]
  },
  {
   "cell_type": "markdown",
   "id": "110b8c1e",
   "metadata": {},
   "source": [
    "**Each row represents a customer, each column contains customer’s attributes described on the column Metadata.**"
   ]
  },
  {
   "cell_type": "markdown",
   "id": "bf2e18c3",
   "metadata": {},
   "source": [
    "* **Customers who left within the last month** – the column is called Churn.\n",
    "\n",
    "* **Services that each customer has signed up for** – phone, multiple lines, internet, online security, online backup, device protection, tech support, and streaming TV and movies\n",
    "\n",
    "* **Customer account information** – how long they’ve been a customer, contract, payment method, paperless billing, monthly charges, and total charges\n",
    "\n",
    "* **Demographic info about customers** – gender, age range, and if they have partners and dependents"
   ]
  },
  {
   "cell_type": "markdown",
   "id": "5c5620c4",
   "metadata": {},
   "source": [
    "<span style='color:Blue'> **Import the Required Libraries** </span>"
   ]
  },
  {
   "cell_type": "code",
   "execution_count": 1,
   "id": "a153328c",
   "metadata": {},
   "outputs": [],
   "source": [
    "# Write code and Observation here."
   ]
  },
  {
   "cell_type": "markdown",
   "id": "266b6bfd",
   "metadata": {},
   "source": [
    "<span style='color:Blue'> **Question - 1. Review the data sets and view the first Ten lines.** </span>"
   ]
  },
  {
   "cell_type": "code",
   "execution_count": 2,
   "id": "368992e3",
   "metadata": {},
   "outputs": [],
   "source": [
    "# Write code and Observation here."
   ]
  },
  {
   "cell_type": "markdown",
   "id": "7e1a03ce",
   "metadata": {},
   "source": [
    "<span style='color:Blue'> **Question - 2. Are there any null values in the data?** </span>"
   ]
  },
  {
   "cell_type": "code",
   "execution_count": 3,
   "id": "700d1a15",
   "metadata": {},
   "outputs": [],
   "source": [
    "# Write code and Observation here."
   ]
  },
  {
   "cell_type": "markdown",
   "id": "da0a9559",
   "metadata": {},
   "source": [
    "<span style='color:Blue'> **Question - 3. How many categorical columns are there and what are they?** </span>"
   ]
  },
  {
   "cell_type": "code",
   "execution_count": 4,
   "id": "db5e612c",
   "metadata": {},
   "outputs": [],
   "source": [
    "# Write code and Observation here."
   ]
  },
  {
   "cell_type": "markdown",
   "id": "8c713809",
   "metadata": {},
   "source": [
    "<span style='color:Blue'> **Question - 4. Which column has two classes?** </span>\n",
    "\n",
    "NOTE:- Also called as boolean column."
   ]
  },
  {
   "cell_type": "code",
   "execution_count": 5,
   "id": "85901f1a",
   "metadata": {},
   "outputs": [],
   "source": [
    "# Write code and Observation here."
   ]
  },
  {
   "cell_type": "markdown",
   "id": "aef457ab",
   "metadata": {},
   "source": [
    "<span style='color:Blue'> **Question - 5. Are there any repeated values?** </span>"
   ]
  },
  {
   "cell_type": "code",
   "execution_count": 6,
   "id": "109020a6",
   "metadata": {},
   "outputs": [],
   "source": [
    "# Write code and Observation here."
   ]
  },
  {
   "cell_type": "markdown",
   "id": "35bb594e",
   "metadata": {},
   "source": [
    "<span style='color:Blue'> **Question - 6. What is the unique count of values in each column?** </span>"
   ]
  },
  {
   "cell_type": "code",
   "execution_count": 7,
   "id": "bf9b1d05",
   "metadata": {},
   "outputs": [],
   "source": [
    "# Write code and Observation here."
   ]
  },
  {
   "cell_type": "markdown",
   "id": "a4a70d52",
   "metadata": {},
   "source": [
    "<span style='color:Blue'> **Question - 7. What is the percentage of International plan users?** </span>"
   ]
  },
  {
   "cell_type": "code",
   "execution_count": 8,
   "id": "c188c77a",
   "metadata": {},
   "outputs": [],
   "source": [
    "# Write code and Observation here."
   ]
  },
  {
   "cell_type": "markdown",
   "id": "d1481a83",
   "metadata": {},
   "source": [
    "<span style='color:Blue'> **Question - 8. Convert categorical features into numerical.** </span>"
   ]
  },
  {
   "cell_type": "code",
   "execution_count": 9,
   "id": "8a66b448",
   "metadata": {},
   "outputs": [],
   "source": [
    "# Write code and Observation here."
   ]
  },
  {
   "cell_type": "markdown",
   "id": "800f0206",
   "metadata": {},
   "source": [
    "# 2. Exploratory Data Analysis"
   ]
  },
  {
   "cell_type": "markdown",
   "id": "86eafb28",
   "metadata": {},
   "source": [
    "<span style='color:Blue'> **Question - 9. Check for imbalance class distribution.** </span>"
   ]
  },
  {
   "cell_type": "code",
   "execution_count": 10,
   "id": "36260aa3",
   "metadata": {},
   "outputs": [],
   "source": [
    "# Write code and Observation here."
   ]
  },
  {
   "cell_type": "markdown",
   "id": "0a4934e9",
   "metadata": {},
   "source": [
    "<span style='color:Blue'> **Question - 10. Visualize the target feature.** </span>\n",
    "\n",
    "HINT:- Used bar plot."
   ]
  },
  {
   "cell_type": "code",
   "execution_count": 11,
   "id": "20cd8840",
   "metadata": {},
   "outputs": [],
   "source": [
    "# Write code and Observation here."
   ]
  },
  {
   "cell_type": "markdown",
   "id": "ed341a8f",
   "metadata": {},
   "source": [
    "<span style='color:Blue'> **Question - 11. Visualize the remaining categorical features.** </span>"
   ]
  },
  {
   "cell_type": "code",
   "execution_count": 12,
   "id": "a64f0c38",
   "metadata": {},
   "outputs": [],
   "source": [
    "# Write code and Observation here."
   ]
  },
  {
   "cell_type": "markdown",
   "id": "0e8142c7",
   "metadata": {},
   "source": [
    "<span style='color:Blue'> **Question - 12. Count the churn with in international plan.** </span>"
   ]
  },
  {
   "cell_type": "code",
   "execution_count": 13,
   "id": "8fa9914b",
   "metadata": {},
   "outputs": [],
   "source": [
    "# Write code and Observation here."
   ]
  },
  {
   "cell_type": "markdown",
   "id": "0877233f",
   "metadata": {},
   "source": [
    "<span style='color:Blue'> **Question - 13. Is there any effect in day calls while increasing the day charge?** </span>"
   ]
  },
  {
   "cell_type": "code",
   "execution_count": 14,
   "id": "8673c3fe",
   "metadata": {},
   "outputs": [],
   "source": [
    "# Write code and Observation here."
   ]
  },
  {
   "cell_type": "markdown",
   "id": "69e4b9b8",
   "metadata": {},
   "source": [
    "<span style='color:Blue'> **Question - 14. Find out corrleation between features and mentioned it best features.** </span>\n"
   ]
  },
  {
   "cell_type": "code",
   "execution_count": 15,
   "id": "403695f3",
   "metadata": {},
   "outputs": [],
   "source": [
    "# Write code and Observation here."
   ]
  },
  {
   "cell_type": "markdown",
   "id": "8f4b984c",
   "metadata": {},
   "source": [
    "<span style='color:Blue'> **Question - 15. Split the dataset with 30% and apply the classification model** </span>\n"
   ]
  },
  {
   "cell_type": "code",
   "execution_count": 16,
   "id": "774b7a18",
   "metadata": {},
   "outputs": [],
   "source": [
    "# Write code and Observation here."
   ]
  },
  {
   "cell_type": "markdown",
   "id": "95a842e8",
   "metadata": {},
   "source": [
    "<span style='color:Blue'> **Question - 16. How can you tell us your model is perfect for testing the dataset?** </span>\n"
   ]
  },
  {
   "cell_type": "code",
   "execution_count": 17,
   "id": "1e1178e7",
   "metadata": {},
   "outputs": [],
   "source": [
    "# Write code and Observation here."
   ]
  },
  {
   "cell_type": "markdown",
   "id": "e037a419",
   "metadata": {},
   "source": [
    "<span style='color:Blue'> **Question - 17. How many False and True examples(i.e. in percentage format) in our dataset after training?** </span>"
   ]
  },
  {
   "cell_type": "code",
   "execution_count": 18,
   "id": "8a1b71e4",
   "metadata": {},
   "outputs": [],
   "source": [
    "# Write code and Observation here."
   ]
  },
  {
   "cell_type": "markdown",
   "id": "20de865b",
   "metadata": {},
   "source": [
    "<span style='color:Blue'> **Question - 18. Apply the classification model on important features.** </span>\n"
   ]
  },
  {
   "cell_type": "code",
   "execution_count": 19,
   "id": "58c0cd52",
   "metadata": {},
   "outputs": [],
   "source": [
    "# Write code and Observation here."
   ]
  },
  {
   "cell_type": "markdown",
   "id": "4b4e2a98",
   "metadata": {},
   "source": [
    "<span style='color:Blue'> **Question - 19. How many 'True Positive' and 'True Negative' values in confusion matrix.** </span>\n"
   ]
  },
  {
   "cell_type": "code",
   "execution_count": 20,
   "id": "e3e7e231",
   "metadata": {},
   "outputs": [],
   "source": [
    "# Write code and Observation here."
   ]
  },
  {
   "cell_type": "markdown",
   "id": "131ff90f",
   "metadata": {},
   "source": [
    "<span style='color:Blue'> **Question - 20. Calculate the AUC score and visualize them?** </span>\n"
   ]
  },
  {
   "cell_type": "code",
   "execution_count": 21,
   "id": "9f324789",
   "metadata": {},
   "outputs": [],
   "source": [
    "# Write code and Observation here."
   ]
  }
 ],
 "metadata": {
  "kernelspec": {
   "display_name": "Python 3",
   "language": "python",
   "name": "python3"
  },
  "language_info": {
   "codemirror_mode": {
    "name": "ipython",
    "version": 3
   },
   "file_extension": ".py",
   "mimetype": "text/x-python",
   "name": "python",
   "nbconvert_exporter": "python",
   "pygments_lexer": "ipython3",
   "version": "3.8.8"
  }
 },
 "nbformat": 4,
 "nbformat_minor": 5
}
